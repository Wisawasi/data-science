{
  "nbformat": 4,
  "nbformat_minor": 0,
  "metadata": {
    "colab": {
      "name": "Python Basics By INVESTIC",
      "provenance": [],
      "collapsed_sections": [],
      "toc_visible": true,
      "include_colab_link": true
    },
    "kernelspec": {
      "name": "python3",
      "display_name": "Python 3"
    }
  },
  "cells": [
    {
      "cell_type": "markdown",
      "metadata": {
        "id": "view-in-github",
        "colab_type": "text"
      },
      "source": [
        "<a href=\"https://colab.research.google.com/github/Wisawasi/data-science/blob/master/Python_Basics_By_INVESTIC.ipynb\" target=\"_parent\"><img src=\"https://colab.research.google.com/assets/colab-badge.svg\" alt=\"Open In Colab\"/></a>"
      ]
    },
    {
      "cell_type": "markdown",
      "metadata": {
        "id": "AuuT6yQy62Uh"
      },
      "source": [
        "# Variables and Data Types"
      ]
    },
    {
      "cell_type": "markdown",
      "metadata": {
        "id": "BVxfjIFO8mWQ"
      },
      "source": [
        "## Variable Assignment"
      ]
    },
    {
      "cell_type": "code",
      "metadata": {
        "id": "GcVnD2Jz8tPk"
      },
      "source": [
        "x=5\n",
        "x"
      ],
      "execution_count": null,
      "outputs": []
    },
    {
      "cell_type": "markdown",
      "metadata": {
        "id": "TkYkKBTS8-l-"
      },
      "source": [
        "## Calculations With Variables"
      ]
    },
    {
      "cell_type": "code",
      "metadata": {
        "id": "eEJ_rMQJ32Bs"
      },
      "source": [
        "x+2 #Sum of two variables"
      ],
      "execution_count": null,
      "outputs": []
    },
    {
      "cell_type": "code",
      "metadata": {
        "id": "f2G5Mtss3653"
      },
      "source": [
        "x-2 #Subtraction of two variables"
      ],
      "execution_count": null,
      "outputs": []
    },
    {
      "cell_type": "code",
      "metadata": {
        "id": "8wOx9TSs38iA"
      },
      "source": [
        "x*2 #Multiplication of two variables"
      ],
      "execution_count": null,
      "outputs": []
    },
    {
      "cell_type": "code",
      "metadata": {
        "id": "Los7bjuO3-Cp"
      },
      "source": [
        "x**2 #Exponentiation of a variable"
      ],
      "execution_count": null,
      "outputs": []
    },
    {
      "cell_type": "code",
      "metadata": {
        "id": "X2qlEZfW4A7U"
      },
      "source": [
        "x%2 #Remainder of a variable"
      ],
      "execution_count": null,
      "outputs": []
    },
    {
      "cell_type": "code",
      "metadata": {
        "id": "PMjUkMoV4CV7"
      },
      "source": [
        "x/float(2) #Division of a variable"
      ],
      "execution_count": null,
      "outputs": []
    },
    {
      "cell_type": "markdown",
      "metadata": {
        "id": "TGyOYWOE7qw1"
      },
      "source": [
        "#Types and Type Conversion"
      ]
    },
    {
      "cell_type": "code",
      "metadata": {
        "id": "6gAQe3oG_cqA"
      },
      "source": [
        "str() #Variables to strings ex. '5', '3.45', 'True'"
      ],
      "execution_count": null,
      "outputs": []
    },
    {
      "cell_type": "code",
      "metadata": {
        "id": "bijsfXTv_cv_"
      },
      "source": [
        "int() #Variables to integers ex. 5, 3, 1"
      ],
      "execution_count": null,
      "outputs": []
    },
    {
      "cell_type": "code",
      "metadata": {
        "id": "i49vJZVk_cy7"
      },
      "source": [
        "float() #Variables to floats ex. 5.0, 1.0"
      ],
      "execution_count": null,
      "outputs": []
    },
    {
      "cell_type": "code",
      "metadata": {
        "id": "wqs_wHM5_c2C"
      },
      "source": [
        "bool() #Variables to booleans ex. True, True, True"
      ],
      "execution_count": null,
      "outputs": []
    },
    {
      "cell_type": "markdown",
      "metadata": {
        "id": "CZUcTbGC72L0"
      },
      "source": [
        "## Strings"
      ]
    },
    {
      "cell_type": "code",
      "metadata": {
        "id": "M1qkEV8i_iRL"
      },
      "source": [
        "my_string = 'thisStringIsAwesome'\n",
        "my_string "
      ],
      "execution_count": null,
      "outputs": []
    },
    {
      "cell_type": "code",
      "metadata": {
        "id": "V73kBHro_jYl"
      },
      "source": [
        "my_string * 2"
      ],
      "execution_count": null,
      "outputs": []
    },
    {
      "cell_type": "code",
      "metadata": {
        "id": "1tceARfA_jfB"
      },
      "source": [
        "my_string + 'Innit'"
      ],
      "execution_count": null,
      "outputs": []
    },
    {
      "cell_type": "code",
      "metadata": {
        "id": "xd35dAW1_jn5"
      },
      "source": [
        "'m' in my_string"
      ],
      "execution_count": null,
      "outputs": []
    },
    {
      "cell_type": "markdown",
      "metadata": {
        "id": "Zw_FtK0M77Da"
      },
      "source": [
        "## Selecting String Characters"
      ]
    },
    {
      "cell_type": "code",
      "metadata": {
        "id": "YlDxMo2O_ujL"
      },
      "source": [
        "my_string[3]"
      ],
      "execution_count": null,
      "outputs": []
    },
    {
      "cell_type": "code",
      "metadata": {
        "id": "Q2w7mVyh_vO_"
      },
      "source": [
        "my_string[4:9]"
      ],
      "execution_count": null,
      "outputs": []
    },
    {
      "cell_type": "markdown",
      "metadata": {
        "id": "ZHpwoNAu9E4Y"
      },
      "source": [
        "## String Methods"
      ]
    },
    {
      "cell_type": "code",
      "metadata": {
        "id": "iG_V20yj_RVV"
      },
      "source": [
        "my_string.upper() #String to uppercase"
      ],
      "execution_count": null,
      "outputs": []
    },
    {
      "cell_type": "code",
      "metadata": {
        "id": "5WmHbCN3_Rbp"
      },
      "source": [
        "my_string.lower() #String to lowercase"
      ],
      "execution_count": null,
      "outputs": []
    },
    {
      "cell_type": "code",
      "metadata": {
        "id": "5PBqlimi_Rez"
      },
      "source": [
        "my_string.count('w') #Count String elements"
      ],
      "execution_count": null,
      "outputs": []
    },
    {
      "cell_type": "code",
      "metadata": {
        "id": "UTKnHhqr_Rhf"
      },
      "source": [
        "my_string.replace('e', 'i') #Replace String elements"
      ],
      "execution_count": null,
      "outputs": []
    },
    {
      "cell_type": "code",
      "metadata": {
        "id": "8t4bsnN-_UWF"
      },
      "source": [
        "my_string.strip() #Strip whitespace from ends"
      ],
      "execution_count": null,
      "outputs": []
    },
    {
      "cell_type": "markdown",
      "metadata": {
        "id": "RhMycixJ8C-l"
      },
      "source": [
        "## Lists"
      ]
    },
    {
      "cell_type": "code",
      "metadata": {
        "id": "DSCNPm6E_Lt2"
      },
      "source": [
        "a = 'is'"
      ],
      "execution_count": null,
      "outputs": []
    },
    {
      "cell_type": "code",
      "metadata": {
        "id": "gVY1TQdS_L2U"
      },
      "source": [
        "b = 'nice'"
      ],
      "execution_count": null,
      "outputs": []
    },
    {
      "cell_type": "code",
      "metadata": {
        "id": "UYMD2cyN_L-E"
      },
      "source": [
        "my_list = ['my', 'list', a, b]"
      ],
      "execution_count": null,
      "outputs": []
    },
    {
      "cell_type": "code",
      "metadata": {
        "id": "aTkpQgJL_MFT"
      },
      "source": [
        "my_list2 = [[4,5,6,7], [3,4,5,6]]"
      ],
      "execution_count": null,
      "outputs": []
    },
    {
      "cell_type": "markdown",
      "metadata": {
        "id": "AfITAeh07g9Z"
      },
      "source": [
        "# Slicing List Elements"
      ]
    },
    {
      "cell_type": "code",
      "metadata": {
        "id": "ReWa88NMzGCd"
      },
      "source": [
        "my_list[1] #Select item at index 1"
      ],
      "execution_count": null,
      "outputs": []
    },
    {
      "cell_type": "code",
      "metadata": {
        "id": "b-P4KfZtzHJz"
      },
      "source": [
        "my_list[-3] #Select 3rd last item"
      ],
      "execution_count": null,
      "outputs": []
    },
    {
      "cell_type": "markdown",
      "metadata": {
        "id": "4CwDZNFR9RQJ"
      },
      "source": [
        "## Slice"
      ]
    },
    {
      "cell_type": "code",
      "metadata": {
        "id": "lx61c-98zPbv"
      },
      "source": [
        "my_list[1:3] #Select items at index 1 and 2"
      ],
      "execution_count": null,
      "outputs": []
    },
    {
      "cell_type": "code",
      "metadata": {
        "id": "S6cdz_eczRXO"
      },
      "source": [
        "my_list[1:] #Select items after index 0"
      ],
      "execution_count": null,
      "outputs": []
    },
    {
      "cell_type": "code",
      "metadata": {
        "id": "voXXYCo0zT04"
      },
      "source": [
        "my_list[:3] #Select items before index 3"
      ],
      "execution_count": null,
      "outputs": []
    },
    {
      "cell_type": "code",
      "metadata": {
        "id": "G_NBMEZrzU4V"
      },
      "source": [
        "my_list[:] #Copy my_list"
      ],
      "execution_count": null,
      "outputs": []
    },
    {
      "cell_type": "markdown",
      "metadata": {
        "id": "wnxwCFWw9V0Y"
      },
      "source": [
        "## Subset Lists of Lists"
      ]
    },
    {
      "cell_type": "code",
      "metadata": {
        "id": "5VDhI4TDzauF"
      },
      "source": [
        "my_list2[1][0] #my_list[list][itemOfList]"
      ],
      "execution_count": null,
      "outputs": []
    },
    {
      "cell_type": "code",
      "metadata": {
        "id": "stwaI4MIzZQI"
      },
      "source": [
        "my_list2[1][:2] #my_list[list][itemOfList]"
      ],
      "execution_count": null,
      "outputs": []
    },
    {
      "cell_type": "markdown",
      "metadata": {
        "id": "JC-gb1zn9mCJ"
      },
      "source": [
        "## Lists Operations"
      ]
    },
    {
      "cell_type": "code",
      "metadata": {
        "id": "141zsXtCzhgJ"
      },
      "source": [
        "my_list + my_list"
      ],
      "execution_count": null,
      "outputs": []
    },
    {
      "cell_type": "code",
      "metadata": {
        "id": "xcYyRu-wzjXK"
      },
      "source": [
        "my_list * 2"
      ],
      "execution_count": null,
      "outputs": []
    },
    {
      "cell_type": "code",
      "metadata": {
        "id": "YhCKmKmzzkLh"
      },
      "source": [
        "my_list2 > 4"
      ],
      "execution_count": null,
      "outputs": []
    },
    {
      "cell_type": "markdown",
      "metadata": {
        "id": "mr-aSmiM9t_Z"
      },
      "source": [
        "## List Methods"
      ]
    },
    {
      "cell_type": "code",
      "metadata": {
        "id": "-cAzpziCzoMI"
      },
      "source": [
        "my_list.index(a) # Get the index of an item"
      ],
      "execution_count": null,
      "outputs": []
    },
    {
      "cell_type": "code",
      "metadata": {
        "id": "z7LBZ3XNzsu0"
      },
      "source": [
        "my_list.count(a) #Count an item"
      ],
      "execution_count": null,
      "outputs": []
    },
    {
      "cell_type": "code",
      "metadata": {
        "id": "ZWi7YtKgzuAa"
      },
      "source": [
        "my_list.append('!') #Append an item at a time"
      ],
      "execution_count": null,
      "outputs": []
    },
    {
      "cell_type": "code",
      "metadata": {
        "id": "oAcn7ZQGzvDG"
      },
      "source": [
        "my_list.remove('!') #Remove an item"
      ],
      "execution_count": null,
      "outputs": []
    },
    {
      "cell_type": "code",
      "metadata": {
        "id": "bHpG0cGtzwqq"
      },
      "source": [
        "del(my_list[0:1]) #Remove an item"
      ],
      "execution_count": null,
      "outputs": []
    },
    {
      "cell_type": "code",
      "metadata": {
        "id": "KieLz6uSzyc0"
      },
      "source": [
        "my_list.reverse() #Reverse the list"
      ],
      "execution_count": null,
      "outputs": []
    },
    {
      "cell_type": "code",
      "metadata": {
        "id": "hMVnfT7azySr"
      },
      "source": [
        "my_list.extend('!') #Append an item"
      ],
      "execution_count": null,
      "outputs": []
    },
    {
      "cell_type": "code",
      "metadata": {
        "id": "hVpeJkOwz1KO"
      },
      "source": [
        "my_list.pop(-1) #Remove an item"
      ],
      "execution_count": null,
      "outputs": []
    },
    {
      "cell_type": "code",
      "metadata": {
        "id": "bO5Y7EZsz2qi"
      },
      "source": [
        "my_list.insert(0,'!') #Insert an item"
      ],
      "execution_count": null,
      "outputs": []
    },
    {
      "cell_type": "code",
      "metadata": {
        "id": "0YrLVy4Rz3zu"
      },
      "source": [
        "my_list.sort() #Sort the list"
      ],
      "execution_count": null,
      "outputs": []
    },
    {
      "cell_type": "markdown",
      "metadata": {
        "id": "sTH2I6389w8k"
      },
      "source": [
        "# Numpy Arrays"
      ]
    },
    {
      "cell_type": "code",
      "metadata": {
        "id": "mQhgPQNEz7zX"
      },
      "source": [
        "my_list = [1, 2, 3, 4]"
      ],
      "execution_count": null,
      "outputs": []
    },
    {
      "cell_type": "code",
      "metadata": {
        "id": "JjcwVDABz8Q7"
      },
      "source": [
        "my_array = np.array(my_list)"
      ],
      "execution_count": null,
      "outputs": []
    },
    {
      "cell_type": "code",
      "metadata": {
        "id": "t3gcfxSGz97l"
      },
      "source": [
        "my_2darray = np.array([[1,2,3],[4,5,6]])"
      ],
      "execution_count": null,
      "outputs": []
    },
    {
      "cell_type": "markdown",
      "metadata": {
        "id": "lT-oUoEZ91CQ"
      },
      "source": [
        "## Selecting Numpy Array Elements"
      ]
    },
    {
      "cell_type": "code",
      "metadata": {
        "id": "4cFhjpAO0B4N"
      },
      "source": [
        "my_array[1] #Select item at index 1"
      ],
      "execution_count": null,
      "outputs": []
    },
    {
      "cell_type": "markdown",
      "metadata": {
        "id": "VEkDzbcA94jq"
      },
      "source": [
        "## Slice "
      ]
    },
    {
      "cell_type": "code",
      "metadata": {
        "id": "jIWEeY6T0WxX"
      },
      "source": [
        "my_array[0:2] # Select items at index 0 and 1"
      ],
      "execution_count": null,
      "outputs": []
    },
    {
      "cell_type": "markdown",
      "metadata": {
        "id": "nazxJ3bp9_u2"
      },
      "source": [
        "## Subset 2D Numpy arrays"
      ]
    },
    {
      "cell_type": "code",
      "metadata": {
        "id": "70n118Ru0YQ9"
      },
      "source": [
        "my_2darray[:,0] #my_2darray[rows, columns]"
      ],
      "execution_count": null,
      "outputs": []
    },
    {
      "cell_type": "markdown",
      "metadata": {
        "id": "RiZDPM_8-Cpd"
      },
      "source": [
        "## Numpy Array Operations"
      ]
    },
    {
      "cell_type": "code",
      "metadata": {
        "id": "UdhvSYlN0laA"
      },
      "source": [
        "my_array > 3"
      ],
      "execution_count": null,
      "outputs": []
    },
    {
      "cell_type": "code",
      "metadata": {
        "id": "WuJRFfHB0mJ_"
      },
      "source": [
        "my_array * 2"
      ],
      "execution_count": null,
      "outputs": []
    },
    {
      "cell_type": "code",
      "metadata": {
        "id": "QStvxJrE0okL"
      },
      "source": [
        "my_array + np.array([5, 6, 7, 8])"
      ],
      "execution_count": null,
      "outputs": []
    },
    {
      "cell_type": "markdown",
      "metadata": {
        "id": "9BNy_b3z-HKy"
      },
      "source": [
        "## Numpy Array Functions"
      ]
    },
    {
      "cell_type": "code",
      "metadata": {
        "id": "p4DDzBNW00gK"
      },
      "source": [
        "my_array.shape #Get the dimensions of the array"
      ],
      "execution_count": null,
      "outputs": []
    },
    {
      "cell_type": "code",
      "metadata": {
        "id": "woLgeaSK03d4"
      },
      "source": [
        "np.append(other_array) #Append items to an array"
      ],
      "execution_count": null,
      "outputs": []
    },
    {
      "cell_type": "code",
      "metadata": {
        "id": "q8Sw787R08L6"
      },
      "source": [
        "np.insert(my_array, 1, 5) #Insert items in an array"
      ],
      "execution_count": null,
      "outputs": []
    },
    {
      "cell_type": "code",
      "metadata": {
        "id": "sVavgYtF1AVk"
      },
      "source": [
        "np.delete(my_array,[1]) #Delete items in an array"
      ],
      "execution_count": null,
      "outputs": []
    },
    {
      "cell_type": "code",
      "metadata": {
        "id": "hvQhzn9i1Dly"
      },
      "source": [
        "np.mean(my_array) #Mean of the array"
      ],
      "execution_count": null,
      "outputs": []
    },
    {
      "cell_type": "code",
      "metadata": {
        "id": "ukAkiWAD1JJa"
      },
      "source": [
        "np.median(my_array) #Median of the array"
      ],
      "execution_count": null,
      "outputs": []
    },
    {
      "cell_type": "code",
      "metadata": {
        "id": "1TleOc881Njx"
      },
      "source": [
        "my_array.corrcoef() #Correlation coefficient"
      ],
      "execution_count": null,
      "outputs": []
    },
    {
      "cell_type": "code",
      "metadata": {
        "id": "IcMwriXs1SGe"
      },
      "source": [
        "np.std(my_array) #Standard deviation"
      ],
      "execution_count": null,
      "outputs": []
    }
  ]
}